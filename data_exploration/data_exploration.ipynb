{
 "cells": [
  {
   "cell_type": "code",
   "execution_count": 38,
   "metadata": {},
   "outputs": [],
   "source": [
    "import pandas as pd\n",
    "import numpy as np\n",
    "np.random.seed(42)"
   ]
  },
  {
   "cell_type": "code",
   "execution_count": 26,
   "metadata": {},
   "outputs": [],
   "source": [
    "data = pd.read_csv('../large_data/task_a_distant.tsv', sep='\\t')"
   ]
  },
  {
   "cell_type": "code",
   "execution_count": null,
   "outputs": [],
   "source": [
    "# Columns in semeval data.\n",
    "data.columns"
   ],
   "metadata": {
    "collapsed": false,
    "pycharm": {
     "name": "#%%\n"
    }
   }
  },
  {
   "cell_type": "code",
   "execution_count": null,
   "outputs": [],
   "source": [
    "# Amount of rows.\n",
    "len(data)"
   ],
   "metadata": {
    "collapsed": false,
    "pycharm": {
     "name": "#%%\n"
    }
   }
  },
  {
   "cell_type": "markdown",
   "source": [
    "### Statistics about offensiveness of texts in data. "
   ],
   "metadata": {
    "collapsed": false
   }
  },
  {
   "cell_type": "code",
   "execution_count": null,
   "outputs": [],
   "source": [
    "data['average'].mean()"
   ],
   "metadata": {
    "collapsed": false,
    "pycharm": {
     "name": "#%%\n"
    }
   }
  },
  {
   "cell_type": "code",
   "execution_count": null,
   "outputs": [],
   "source": [
    "data['average'].std()"
   ],
   "metadata": {
    "collapsed": false,
    "pycharm": {
     "name": "#%%\n"
    }
   }
  },
  {
   "cell_type": "code",
   "execution_count": null,
   "outputs": [],
   "source": [
    "data['std'].mean()"
   ],
   "metadata": {
    "collapsed": false,
    "pycharm": {
     "name": "#%%\n"
    }
   }
  },
  {
   "cell_type": "code",
   "execution_count": null,
   "outputs": [],
   "source": [
    "data['std'].std()"
   ],
   "metadata": {
    "collapsed": false,
    "pycharm": {
     "name": "#%%\n"
    }
   }
  },
  {
   "cell_type": "code",
   "execution_count": null,
   "outputs": [],
   "source": [
    "random_ints = numpy.random.randint(len(data), size=200)\n",
    "random_ints"
   ],
   "metadata": {
    "collapsed": false,
    "pycharm": {
     "name": "#%%\n"
    }
   }
  },
  {
   "cell_type": "code",
   "execution_count": null,
   "outputs": [],
   "source": [
    "piece_of_data = data.iloc[random_ints,:]\n",
    "piece_of_data"
   ],
   "metadata": {
    "collapsed": false,
    "pycharm": {
     "name": "#%%\n"
    }
   }
  },
  {
   "cell_type": "code",
   "execution_count": null,
   "outputs": [],
   "source": [
    "import sys\n",
    "sys.path.append('..')\n",
    "from utils.files_io import write_json_file"
   ],
   "metadata": {
    "collapsed": false,
    "pycharm": {
     "name": "#%%\n"
    }
   }
  },
  {
   "cell_type": "code",
   "execution_count": null,
   "outputs": [],
   "source": [],
   "metadata": {
    "collapsed": false,
    "pycharm": {
     "name": "#%%\n"
    }
   }
  },
  {
   "cell_type": "code",
   "execution_count": 27,
   "metadata": {},
   "outputs": [
    {
     "data": {
      "text/plain": [
       "Index(['id', 'text', 'average', 'std'], dtype='object')"
      ]
     },
     "execution_count": 27,
     "metadata": {},
     "output_type": "execute_result"
    }
   ],
   "source": []
  },
  {
   "cell_type": "code",
   "execution_count": 28,
   "metadata": {},
   "outputs": [
    {
     "data": {
      "text/plain": [
       "9075418"
      ]
     },
     "execution_count": 28,
     "metadata": {},
     "output_type": "execute_result"
    }
   ],
   "source": [
    "# Amount of rows.\n",
    "len(data)"
   ]
  },
  {
   "cell_type": "markdown",
   "metadata": {},
   "source": [
    "### Statistics about offensiveness of texts in data. "
   ]
  },
  {
   "cell_type": "code",
   "execution_count": 29,
   "metadata": {},
   "outputs": [
    {
     "data": {
      "text/plain": [
       "0.32111792146533236"
      ]
     },
     "execution_count": 29,
     "metadata": {},
     "output_type": "execute_result"
    }
   ],
   "source": [
    "data['average'].mean()"
   ]
  },
  {
   "cell_type": "code",
   "execution_count": 30,
   "metadata": {},
   "outputs": [
    {
     "data": {
      "text/plain": [
       "0.18581298750860034"
      ]
     },
     "execution_count": 30,
     "metadata": {},
     "output_type": "execute_result"
    }
   ],
   "source": [
    "data['average'].std()"
   ]
  },
  {
   "cell_type": "code",
   "execution_count": 31,
   "metadata": {},
   "outputs": [
    {
     "data": {
      "text/plain": [
       "0.17137098477640975"
      ]
     },
     "execution_count": 31,
     "metadata": {},
     "output_type": "execute_result"
    }
   ],
   "source": [
    "data['std'].mean()"
   ]
  },
  {
   "cell_type": "code",
   "execution_count": 32,
   "metadata": {},
   "outputs": [
    {
     "data": {
      "text/plain": [
       "0.037445180002522165"
      ]
     },
     "execution_count": 32,
     "metadata": {},
     "output_type": "execute_result"
    }
   ],
   "source": [
    "data['std'].std()"
   ]
  },
  {
   "cell_type": "code",
   "execution_count": 40,
   "metadata": {},
   "outputs": [
    {
     "data": {
      "text/plain": [
       "array([3896830, 4336787, 2755423,   71295, 7613287, 3445376, 5251035,\n",
       "       3612600,  825816, 8763313, 2026793,  554594, 8536326, 3504473,\n",
       "       7299695, 2204664, 4341747,  686976, 2472189, 8506404, 1241082,\n",
       "       5184502, 6561000, 6671458, 4892306, 3674515, 1579159, 4515488,\n",
       "       6041495, 9056842, 8767088, 6324167,  791971,  501157, 4378727,\n",
       "       4124499, 5946594, 5106799, 4327576, 4962140, 2799487, 2904941,\n",
       "       7983441, 5320385, 2100021, 6928040,  618467, 5333152, 7328141,\n",
       "       5072148, 1707923, 5134207, 8516999, 6730886, 5853584, 8170528,\n",
       "       4301754, 2269042, 1983509, 7740141,  116381, 1521701, 6105525,\n",
       "       3438618, 7913697, 2457184, 4103022, 1418175, 3806688, 7265795,\n",
       "       3772962, 4041776, 2727423, 5709840, 5130397, 3451356, 3444084,\n",
       "       2927109, 6979451, 8519981, 7778484, 8503902, 6214624, 4842611,\n",
       "       6357182, 4335868, 2215167, 3886402, 6545535, 6842385,  688105,\n",
       "       1989173, 3080761, 1414466,  445101, 8106609, 7413023, 7613269,\n",
       "       1105534, 4353127, 7315360, 8073461,  498863, 8756262, 2676188,\n",
       "       3295990, 7782937, 6526818, 5491590, 6512440, 6099628, 6555968,\n",
       "       2699015, 8837590, 1172622, 2503771, 3177825,  996161, 4183839,\n",
       "        666326,  649150, 3375957,  118834, 3239576, 5893309, 5948540,\n",
       "       4249913, 4422201, 1079600, 3503157, 8272874, 8849851, 1985588,\n",
       "       8640059, 4197355, 1752683, 7716868, 1004646, 3867500,  449395,\n",
       "       5143901, 6754350, 1260386, 3054390, 7019431, 3379569, 2900603,\n",
       "       8611474, 1646711, 5587774, 6319707, 7967801, 1423286, 3695961,\n",
       "       8217316, 3177945, 7348340,  183062, 2841992, 4294539, 6095929,\n",
       "       4944505,  803328, 4062958, 1043233, 6468703,  529525,  176615,\n",
       "       4381932, 6665088, 7474447, 4601020, 3699391, 8929860, 7006454,\n",
       "       3612610, 7031883, 2164367,  144356, 8744220, 8398043, 1748014,\n",
       "       7156720, 2288627, 6517963, 6597519,  764121, 7068121, 3502630,\n",
       "       5698848, 1107677, 5738852,  288790, 5084921, 3693305, 4466271,\n",
       "       4385536, 1352695, 1589228, 1100567])"
      ]
     },
     "execution_count": 40,
     "metadata": {},
     "output_type": "execute_result"
    }
   ],
   "source": [
    "random_ints = numpy.random.randint(len(data), size=200)\n",
    "random_ints"
   ]
  },
  {
   "cell_type": "code",
   "execution_count": 45,
   "metadata": {},
   "outputs": [
    {
     "data": {
      "text/html": [
       "<div>\n",
       "<style scoped>\n",
       "    .dataframe tbody tr th:only-of-type {\n",
       "        vertical-align: middle;\n",
       "    }\n",
       "\n",
       "    .dataframe tbody tr th {\n",
       "        vertical-align: top;\n",
       "    }\n",
       "\n",
       "    .dataframe thead th {\n",
       "        text-align: right;\n",
       "    }\n",
       "</style>\n",
       "<table border=\"1\" class=\"dataframe\">\n",
       "  <thead>\n",
       "    <tr style=\"text-align: right;\">\n",
       "      <th></th>\n",
       "      <th>id</th>\n",
       "      <th>text</th>\n",
       "      <th>average</th>\n",
       "      <th>std</th>\n",
       "    </tr>\n",
       "  </thead>\n",
       "  <tbody>\n",
       "    <tr>\n",
       "      <th>3896830</th>\n",
       "      <td>1157210990292983808</td>\n",
       "      <td>@USER @USER @USER @USER You weren't here. I di...</td>\n",
       "      <td>0.273984</td>\n",
       "      <td>0.143333</td>\n",
       "    </tr>\n",
       "    <tr>\n",
       "      <th>4336787</th>\n",
       "      <td>1157392696689872896</td>\n",
       "      <td>@USER @USER @USER That’s doesn’t count cause i...</td>\n",
       "      <td>0.294736</td>\n",
       "      <td>0.157481</td>\n",
       "    </tr>\n",
       "    <tr>\n",
       "      <th>2755423</th>\n",
       "      <td>1160990280860020737</td>\n",
       "      <td>I’m mutuals with some freaks</td>\n",
       "      <td>0.540372</td>\n",
       "      <td>0.264645</td>\n",
       "    </tr>\n",
       "    <tr>\n",
       "      <th>71295</th>\n",
       "      <td>1159642667527090176</td>\n",
       "      <td>Real talk I’m gonna miss my mom the most when ...</td>\n",
       "      <td>0.427718</td>\n",
       "      <td>0.250587</td>\n",
       "    </tr>\n",
       "    <tr>\n",
       "      <th>7613287</th>\n",
       "      <td>1187285815791181824</td>\n",
       "      <td>Jini really texted me while I was asleep wanti...</td>\n",
       "      <td>0.309649</td>\n",
       "      <td>0.163922</td>\n",
       "    </tr>\n",
       "    <tr>\n",
       "      <th>...</th>\n",
       "      <td>...</td>\n",
       "      <td>...</td>\n",
       "      <td>...</td>\n",
       "      <td>...</td>\n",
       "    </tr>\n",
       "    <tr>\n",
       "      <th>4466271</th>\n",
       "      <td>1158105563927994369</td>\n",
       "      <td>@USER I agree - and we must vote against those...</td>\n",
       "      <td>0.265434</td>\n",
       "      <td>0.162972</td>\n",
       "    </tr>\n",
       "    <tr>\n",
       "      <th>4385536</th>\n",
       "      <td>1157460681781850113</td>\n",
       "      <td>@USER Fuckinnn weakk 😂 this one white boy did ...</td>\n",
       "      <td>0.516157</td>\n",
       "      <td>0.236405</td>\n",
       "    </tr>\n",
       "    <tr>\n",
       "      <th>1352695</th>\n",
       "      <td>1159484441435299840</td>\n",
       "      <td>@USER I approve of this timeline</td>\n",
       "      <td>0.168474</td>\n",
       "      <td>0.166763</td>\n",
       "    </tr>\n",
       "    <tr>\n",
       "      <th>1589228</th>\n",
       "      <td>1161930703077953536</td>\n",
       "      <td>@USER @USER It means he is not Brazilian ☹️😢</td>\n",
       "      <td>0.273011</td>\n",
       "      <td>0.208251</td>\n",
       "    </tr>\n",
       "    <tr>\n",
       "      <th>1100567</th>\n",
       "      <td>1160252797562040321</td>\n",
       "      <td>@USER @USER Lol He’s 76</td>\n",
       "      <td>0.217302</td>\n",
       "      <td>0.164055</td>\n",
       "    </tr>\n",
       "  </tbody>\n",
       "</table>\n",
       "<p>200 rows × 4 columns</p>\n",
       "</div>"
      ],
      "text/plain": [
       "                          id                                               text   average       std\n",
       "3896830  1157210990292983808  @USER @USER @USER @USER You weren't here. I di...  0.273984  0.143333\n",
       "4336787  1157392696689872896  @USER @USER @USER That’s doesn’t count cause i...  0.294736  0.157481\n",
       "2755423  1160990280860020737                       I’m mutuals with some freaks  0.540372  0.264645\n",
       "71295    1159642667527090176  Real talk I’m gonna miss my mom the most when ...  0.427718  0.250587\n",
       "7613287  1187285815791181824  Jini really texted me while I was asleep wanti...  0.309649  0.163922\n",
       "...                      ...                                                ...       ...       ...\n",
       "4466271  1158105563927994369  @USER I agree - and we must vote against those...  0.265434  0.162972\n",
       "4385536  1157460681781850113  @USER Fuckinnn weakk 😂 this one white boy did ...  0.516157  0.236405\n",
       "1352695  1159484441435299840                   @USER I approve of this timeline  0.168474  0.166763\n",
       "1589228  1161930703077953536       @USER @USER It means he is not Brazilian ☹️😢  0.273011  0.208251\n",
       "1100567  1160252797562040321                            @USER @USER Lol He’s 76  0.217302  0.164055\n",
       "\n",
       "[200 rows x 4 columns]"
      ]
     },
     "execution_count": 45,
     "metadata": {},
     "output_type": "execute_result"
    }
   ],
   "source": [
    "piece_of_data = data.iloc[random_ints,:]\n",
    "piece_of_data"
   ]
  },
  {
   "cell_type": "code",
   "execution_count": 47,
   "metadata": {},
   "outputs": [],
   "source": [
    "import sys\n",
    "sys.path.append('..')\n",
    "from utils.files_io import write_json_file"
   ]
  },
  {
   "cell_type": "code",
   "execution_count": null,
   "metadata": {},
   "outputs": [],
   "source": []
  }
 ],
 "metadata": {
  "kernelspec": {
   "display_name": "venv",
   "language": "python",
   "name": "venv"
  },
  "language_info": {
   "codemirror_mode": {
    "name": "ipython",
    "version": 3
   },
   "file_extension": ".py",
   "mimetype": "text/x-python",
   "name": "python",
   "nbconvert_exporter": "python",
   "pygments_lexer": "ipython3",
   "version": "3.7.8"
  }
 },
 "nbformat": 4,
 "nbformat_minor": 1
}